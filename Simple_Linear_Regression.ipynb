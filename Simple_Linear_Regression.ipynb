{
  "nbformat": 4,
  "nbformat_minor": 0,
  "metadata": {
    "colab": {
      "provenance": [],
      "toc_visible": true
    },
    "kernelspec": {
      "name": "python3",
      "display_name": "Python 3"
    },
    "language_info": {
      "name": "python"
    }
  },
  "cells": [
    {
      "cell_type": "markdown",
      "source": [
        "#**[SIMPLE LINEAR REGRESSION](https://)**\n",
        "\n",
        "\n",
        "\n",
        "\n",
        "\n"
      ],
      "metadata": {
        "id": "0Rf52cym-PRr"
      }
    },
    {
      "cell_type": "markdown",
      "source": [
        "Importing Libraries"
      ],
      "metadata": {
        "id": "mgMQ7p5L-LSe"
      }
    },
    {
      "cell_type": "code",
      "source": [
        "import numpy as np\n",
        "import matplotlib.pyplot as plt"
      ],
      "metadata": {
        "id": "XRvtxTmiCjtE"
      },
      "execution_count": null,
      "outputs": []
    },
    {
      "cell_type": "markdown",
      "source": [
        "Sample data of **Week vs Sales**"
      ],
      "metadata": {
        "id": "XbFmj-mLBM2H"
      }
    },
    {
      "cell_type": "code",
      "source": [
        "Week = np.array([1, 2, 3, 4, 5])\n",
        "Sales = ([1.2,1.8, 2.6, 3.2, 3.8])"
      ],
      "metadata": {
        "id": "Nsuj9rf4BBJl"
      },
      "execution_count": null,
      "outputs": []
    },
    {
      "cell_type": "markdown",
      "source": [
        "Calculating **Mean** of Week and Sales\n",
        "\n",
        "\n",
        "\n",
        "\n",
        "\n"
      ],
      "metadata": {
        "id": "ItX8HTWW69jw"
      }
    },
    {
      "cell_type": "code",
      "source": [
        "Week_mean = np.mean(Week)\n",
        "Sales_mean = np.mean(Sales)"
      ],
      "metadata": {
        "id": "nTtk9iDU68Zy"
      },
      "execution_count": null,
      "outputs": []
    },
    {
      "cell_type": "markdown",
      "source": [
        "Calculating the *Slope*\n"
      ],
      "metadata": {
        "id": "qycKAOvx7ZZy"
      }
    },
    {
      "cell_type": "code",
      "source": [
        "numerator = np.sum((Week - Week_mean) * (Sales - Sales_mean))\n",
        "denominator = np.sum((Week - Week_mean)**2)\n",
        "slope = numerator/denominator\n",
        "print(f\"Slope (slope): {slope}\")"
      ],
      "metadata": {
        "colab": {
          "base_uri": "https://localhost:8080/"
        },
        "id": "4Sz-NOfi7W1w",
        "outputId": "851f22e8-8378-441e-fdf7-d5a741723dc8"
      },
      "execution_count": null,
      "outputs": [
        {
          "output_type": "stream",
          "name": "stdout",
          "text": [
            "Slope (slope): 0.6599999999999999\n"
          ]
        }
      ]
    },
    {
      "cell_type": "markdown",
      "source": [
        "Calculating the *Intercept*"
      ],
      "metadata": {
        "id": "JhRhT-2Q8I4C"
      }
    },
    {
      "cell_type": "code",
      "source": [
        "intercept = Sales_mean - slope * Week_mean\n",
        "print(f\"Intercept (intercept): {intercept}\")"
      ],
      "metadata": {
        "colab": {
          "base_uri": "https://localhost:8080/"
        },
        "id": "31BYCmMU8On0",
        "outputId": "b1bc48ec-6eb3-4d69-e53f-61248f6f2a88"
      },
      "execution_count": null,
      "outputs": [
        {
          "output_type": "stream",
          "name": "stdout",
          "text": [
            "Intercept (intercept): 0.5400000000000007\n"
          ]
        }
      ]
    },
    {
      "cell_type": "markdown",
      "source": [
        "Predicting y\n"
      ],
      "metadata": {
        "id": "QbYWnaya8yLD"
      }
    },
    {
      "cell_type": "code",
      "source": [
        "y = intercept + slope * Week\n",
        "print(f\"Equation of Regression line: y = {slope:.2f}x + {intercept:.2f}\")"
      ],
      "metadata": {
        "colab": {
          "base_uri": "https://localhost:8080/"
        },
        "id": "6iFzgEuR81My",
        "outputId": "21928a5a-1695-4442-abc4-1eb693617590"
      },
      "execution_count": null,
      "outputs": [
        {
          "output_type": "stream",
          "name": "stdout",
          "text": [
            "Equation of Regression line: y = 0.66x + 0.54\n"
          ]
        }
      ]
    },
    {
      "cell_type": "markdown",
      "source": [
        "\n",
        "**Predicting sales for week 7**"
      ],
      "metadata": {
        "id": "xEg2m3iLCWxI"
      }
    },
    {
      "cell_type": "code",
      "source": [
        "week_7 = 7\n",
        "predicted_sales_week_7 = intercept + slope * week_7\n",
        "print(f\"Predicted Sales for Week {week_7}: {predicted_sales_week_7:.2f}\")"
      ],
      "metadata": {
        "colab": {
          "base_uri": "https://localhost:8080/"
        },
        "id": "8Du6AwXRCRCw",
        "outputId": "906b21b0-5554-47aa-a6a1-e7153895559b"
      },
      "execution_count": null,
      "outputs": [
        {
          "output_type": "stream",
          "name": "stdout",
          "text": [
            "Predicted Sales for Week 7: 5.16\n"
          ]
        }
      ]
    },
    {
      "cell_type": "markdown",
      "source": [
        "Plotting **Results**"
      ],
      "metadata": {
        "id": "NGlGvPUo9xMW"
      }
    },
    {
      "cell_type": "code",
      "source": [
        "plt.scatter(Week, Sales, color='blue', label='Original Data')\n",
        "plt.plot(Week,y, color='red', label='Fitted Line')\n",
        "plt.xlabel('Week')\n",
        "plt.ylabel('Sales')\n",
        "plt.title('Simple Linear Regression')\n",
        "plt.legend()\n",
        "plt.show()"
      ],
      "metadata": {
        "colab": {
          "base_uri": "https://localhost:8080/",
          "height": 472
        },
        "id": "RqXG8N4c9p5u",
        "outputId": "1313bbe5-efb2-4685-ada5-dd50d5a9b3e5"
      },
      "execution_count": null,
      "outputs": [
        {
          "output_type": "display_data",
          "data": {
            "text/plain": [
              "<Figure size 640x480 with 1 Axes>"
            ],
            "image/png": "[encoded data removed]"
          },
          "metadata": {}
        }
      ]
    }
  ]
}